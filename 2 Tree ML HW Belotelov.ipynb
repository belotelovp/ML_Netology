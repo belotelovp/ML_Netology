{
 "cells": [
  {
   "cell_type": "markdown",
   "metadata": {},
   "source": [
    "Алгоритм дерева решений:\n",
    "\n",
    "0. Обозначаем корень дерева\n",
    "1. Находим максимальный Gain (вспоминаем лекцию) для каждого признака.\n",
    "2. Из полученных Gain’ов признаков выбираем максимальный, и таким образом определяется узел дерева.\n",
    "3. Далее следуем по левому и правому разбиению, и выполняем пункты 1-3 до тех пор, пока Gain не станет равным 0. В этом случае, мы определяем лист дерева (то есть, возвращаемый ответ)"
   ]
  },
  {
   "cell_type": "code",
   "execution_count": 1,
   "metadata": {},
   "outputs": [],
   "source": [
    "import numpy as np\n",
    "from collections import Counter\n",
    "\n",
    "def HEntropy(l):\n",
    "    length = len(l)\n",
    "    cnt = Counter(l)\n",
    "    \n",
    "    ent = 0\n",
    "    for cl in cnt.values():\n",
    "        p = cl / length\n",
    "        l2 = np.log2(p)\n",
    "        it = -p * l2\n",
    "        ent += it\n",
    "    \n",
    "    return ent\n",
    "\n",
    "def IG(H, l, i):\n",
    "    left_l = l[:i]\n",
    "    right_l = l[i:]\n",
    "    return H(l) - (len(left_l) / len(l)) * H(left_l) - (len(right_l) / len(l)) * H(right_l)"
   ]
  },
  {
   "cell_type": "markdown",
   "metadata": {},
   "source": [
    "Создаем класс, который определяет, попадет ли конкретное измерение (item) в левую часть разбиения"
   ]
  },
  {
   "cell_type": "code",
   "execution_count": 2,
   "metadata": {},
   "outputs": [],
   "source": [
    "import pandas as pd\n",
    "\n",
    "class Splitter:\n",
    "   \n",
    "    def __init__(self, attr_name, threshold_value):\n",
    "        self.attr_name = attr_name\n",
    "        self.threshold_value = threshold_value\n",
    "        \n",
    "    def split(self, item):\n",
    "        return item[self.attr_name] < self.threshold_value\n",
    "    \n",
    "    def __str__(self):\n",
    "        return f'{self.attr_name} < {self.threshold_value}'\n",
    "        \n",
    "class Node:\n",
    "    def __init__(self, splitter, left_node, right_node):\n",
    "        self.splitter = splitter\n",
    "        self.left_node = left_node\n",
    "        self.right_node = right_node\n",
    "\n",
    "    def evaluate(self, item):\n",
    "        if self.splitter.split(item):\n",
    "            return self.left_node.evaluate(item)\n",
    "        else:\n",
    "            return self.right_node.evaluate(item)\n",
    "        \n",
    "class Leaf:\n",
    "    def __init__(self, clazz):\n",
    "        self.clazz = clazz\n",
    "        \n",
    "    def evaluate(self, item):\n",
    "        return self.clazz"
   ]
  },
  {
   "cell_type": "markdown",
   "metadata": {},
   "source": [
    "Параметры:\n",
    "\n",
    "        trainig_df (pandas.DataFrame): датафрейм c учебной выборкой, в которой класс объекта находится в атрибуте clazz \n",
    "        attr_name атрибут, по которому ищем разбиение\n",
    "        \n",
    "Функции:\n",
    "\n",
    "        IG: значение Information Gain при наилучшем разбиении по атрибуту,\n",
    "        Splitter: объект, умеющий определять, попадет ли конкретное измерение (item) в левую часть наилучшего разбиения\n",
    "        \n",
    "        Node: корневой узел построенного дерева решений"
   ]
  },
  {
   "cell_type": "code",
   "execution_count": 3,
   "metadata": {},
   "outputs": [],
   "source": [
    "def get_best_splitter(training_df, attr_name):\n",
    "    \n",
    "    sorted_df = training_df.sort_values(attr_name)\n",
    "    clazzes = sorted_df['clazz'].values\n",
    "    max_ig = 0\n",
    "    best_split_i = 0 \n",
    "    for i in range(len(sorted_df)):\n",
    "        ig = IG(HEntropy, clazzes, i)\n",
    "        if ig > max_ig:\n",
    "            max_ig = ig\n",
    "            best_split_i = i\n",
    "             \n",
    "    best_split_value = sorted_df.iloc[best_split_i][attr_name]\n",
    "    best_splitter = Splitter(attr_name, best_split_value)\n",
    "    return max_ig, best_splitter\n",
    "\n",
    "\n",
    "def build_tree(training_df, excluded_attrs=None):\n",
    "    need_for_split = len(training_df['clazz'].unique()) > 1\n",
    "    if not need_for_split:\n",
    "        clazz = training_df.iloc[0]['clazz']\n",
    "        return Leaf(clazz)\n",
    "    \n",
    "    if excluded_attrs == None:\n",
    "        excluded_attrs = set(['clazz'])\n",
    "\n",
    "    x_columns_names = [column for column in training_df.columns if column not in excluded_attrs]\n",
    "    \n",
    "    max_ig = 0\n",
    "    best_splitter = None\n",
    "    for attr_name in x_columns_names:\n",
    "        ig, splitter = get_best_splitter(training_df, attr_name)\n",
    "        if ig > max_ig:\n",
    "            max_ig = ig\n",
    "            best_splitter = splitter\n",
    "    \n",
    "    left_df = training_df[training_df.apply(best_splitter.split, axis=1)]\n",
    "    right_df = training_df[~training_df.apply(best_splitter.split, axis=1)]\n",
    "    \n",
    "    if len(left_df) == 0 or len(right_df) == 0:\n",
    "        excluded_attrs.add(best_splitter.attr_name)\n",
    "        if(len(excluded_attrs) == len(training_df.columns)):\n",
    "            raise Exception\n",
    "        return build_tree(training_df, excluded_attrs)\n",
    "    \n",
    "    left_node = build_tree(left_df)\n",
    "    right_node = build_tree(right_df)\n",
    "    \n",
    "    return Node(best_splitter, left_node, right_node)"
   ]
  },
  {
   "cell_type": "code",
   "execution_count": 4,
   "metadata": {},
   "outputs": [],
   "source": [
    "from sklearn.datasets import load_iris\n",
    "iris = load_iris()\n",
    "\n",
    "training_df = pd.DataFrame(iris.data, columns=iris.feature_names)\n",
    "training_df['clazz'] = pd.DataFrame(iris.target)\n",
    "\n",
    "tree = build_tree(training_df)"
   ]
  },
  {
   "cell_type": "code",
   "execution_count": 5,
   "metadata": {},
   "outputs": [
    {
     "name": "stdout",
     "output_type": "stream",
     "text": [
      "if petal length (cm) < 3.0:\n",
      "\tclass = 0.0\n",
      "else:\n",
      "\tif petal width (cm) < 1.8:\n",
      "\t\tif petal length (cm) < 5.0:\n",
      "\t\t\tif petal width (cm) < 1.7:\n",
      "\t\t\t\tclass = 1.0\n",
      "\t\t\telse:\n",
      "\t\t\t\tclass = 2.0\n",
      "\t\telse:\n",
      "\t\t\tif petal length (cm) < 5.1:\n",
      "\t\t\t\tif sepal length (cm) < 6.7:\n",
      "\t\t\t\t\tclass = 2.0\n",
      "\t\t\t\telse:\n",
      "\t\t\t\t\tclass = 1.0\n",
      "\t\t\telse:\n",
      "\t\t\t\tif sepal length (cm) < 6.1:\n",
      "\t\t\t\t\tclass = 1.0\n",
      "\t\t\t\telse:\n",
      "\t\t\t\t\tclass = 2.0\n",
      "\telse:\n",
      "\t\tif sepal length (cm) < 5.9:\n",
      "\t\t\tclass = 2.0\n",
      "\t\telse:\n",
      "\t\t\tif sepal width (cm) < 3.2:\n",
      "\t\t\t\tclass = 2.0\n",
      "\t\t\telse:\n",
      "\t\t\t\tif sepal length (cm) < 6.2:\n",
      "\t\t\t\t\tclass = 1.0\n",
      "\t\t\t\telse:\n",
      "\t\t\t\t\tclass = 2.0\n"
     ]
    }
   ],
   "source": [
    "def print_tree(node, indentation=''):\n",
    "    print(indentation + \"if \" + str(node.splitter)+ ':')\n",
    "    \n",
    "    if isinstance(node.left_node, Node):\n",
    "        print_tree(node.left_node, indentation + \"\\t\")\n",
    "    else:\n",
    "        print(indentation + f\"\\tclass = {node.left_node.clazz}\")\n",
    "        \n",
    "    print(indentation + f\"else:\")\n",
    "    \n",
    "    if isinstance(node.right_node, Node):\n",
    "        print_tree(node.right_node, indentation + \"\\t\")\n",
    "    else:\n",
    "        print(indentation + f\"\\tclass = {node.right_node.clazz}\")\n",
    "\n",
    "print_tree(tree)"
   ]
  },
  {
   "cell_type": "code",
   "execution_count": 6,
   "metadata": {},
   "outputs": [
    {
     "name": "stdout",
     "output_type": "stream",
     "text": [
      "accuracy = 1.0\n"
     ]
    }
   ],
   "source": [
    "training_df['guess'] = training_df.apply(tree.evaluate, axis=1)\n",
    "right_guesses = training_df[training_df['guess'] == training_df['clazz']]\n",
    "accuracy = len(right_guesses)/len(training_df)\n",
    "print(f'accuracy = {accuracy}')"
   ]
  },
  {
   "cell_type": "code",
   "execution_count": null,
   "metadata": {},
   "outputs": [],
   "source": []
  }
 ],
 "metadata": {
  "kernelspec": {
   "display_name": "Python 3",
   "language": "python",
   "name": "python3"
  },
  "language_info": {
   "codemirror_mode": {
    "name": "ipython",
    "version": 3
   },
   "file_extension": ".py",
   "mimetype": "text/x-python",
   "name": "python",
   "nbconvert_exporter": "python",
   "pygments_lexer": "ipython3",
   "version": "3.7.3"
  }
 },
 "nbformat": 4,
 "nbformat_minor": 2
}
