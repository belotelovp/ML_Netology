{
 "cells": [
  {
   "cell_type": "markdown",
   "metadata": {},
   "source": [
    "# Задание"
   ]
  },
  {
   "cell_type": "markdown",
   "metadata": {},
   "source": [
    "ПАКЕТ SURPRISE\n",
    "\n",
    "1) используйте данные MovieLens 1M\n",
    "\n",
    "2) можно использовать любые модели из пакета\n",
    "\n",
    "3) получите RMSE на тестовом сете 0.87 и ниже\n"
   ]
  },
  {
   "cell_type": "markdown",
   "metadata": {},
   "source": [
    "# Подготовка данных"
   ]
  },
  {
   "cell_type": "code",
   "execution_count": 5,
   "metadata": {},
   "outputs": [],
   "source": [
    "import pandas as pd\n",
    "import pandas.compat\n",
    "import io"
   ]
  },
  {
   "cell_type": "code",
   "execution_count": 6,
   "metadata": {},
   "outputs": [],
   "source": [
    "import numpy as np\n",
    "from tqdm import tqdm_notebook"
   ]
  },
  {
   "cell_type": "code",
   "execution_count": 7,
   "metadata": {},
   "outputs": [],
   "source": [
    "df_ratings = pd.read_csv('ratings.dat', header=None, sep='::', engine='python')\n",
    "df_movies = pd.read_csv('movies.dat', header=None, sep='::', engine='python')"
   ]
  },
  {
   "cell_type": "code",
   "execution_count": 8,
   "metadata": {},
   "outputs": [
    {
     "data": {
      "text/html": [
       "<div>\n",
       "<style scoped>\n",
       "    .dataframe tbody tr th:only-of-type {\n",
       "        vertical-align: middle;\n",
       "    }\n",
       "\n",
       "    .dataframe tbody tr th {\n",
       "        vertical-align: top;\n",
       "    }\n",
       "\n",
       "    .dataframe thead th {\n",
       "        text-align: right;\n",
       "    }\n",
       "</style>\n",
       "<table border=\"1\" class=\"dataframe\">\n",
       "  <thead>\n",
       "    <tr style=\"text-align: right;\">\n",
       "      <th></th>\n",
       "      <th>movieId</th>\n",
       "      <th>title</th>\n",
       "      <th>genres</th>\n",
       "    </tr>\n",
       "  </thead>\n",
       "  <tbody>\n",
       "    <tr>\n",
       "      <th>0</th>\n",
       "      <td>1</td>\n",
       "      <td>Toy Story (1995)</td>\n",
       "      <td>Animation|Children's|Comedy</td>\n",
       "    </tr>\n",
       "    <tr>\n",
       "      <th>1</th>\n",
       "      <td>2</td>\n",
       "      <td>Jumanji (1995)</td>\n",
       "      <td>Adventure|Children's|Fantasy</td>\n",
       "    </tr>\n",
       "    <tr>\n",
       "      <th>2</th>\n",
       "      <td>3</td>\n",
       "      <td>Grumpier Old Men (1995)</td>\n",
       "      <td>Comedy|Romance</td>\n",
       "    </tr>\n",
       "    <tr>\n",
       "      <th>3</th>\n",
       "      <td>4</td>\n",
       "      <td>Waiting to Exhale (1995)</td>\n",
       "      <td>Comedy|Drama</td>\n",
       "    </tr>\n",
       "    <tr>\n",
       "      <th>4</th>\n",
       "      <td>5</td>\n",
       "      <td>Father of the Bride Part II (1995)</td>\n",
       "      <td>Comedy</td>\n",
       "    </tr>\n",
       "  </tbody>\n",
       "</table>\n",
       "</div>"
      ],
      "text/plain": [
       "   movieId                               title                        genres\n",
       "0        1                    Toy Story (1995)   Animation|Children's|Comedy\n",
       "1        2                      Jumanji (1995)  Adventure|Children's|Fantasy\n",
       "2        3             Grumpier Old Men (1995)                Comedy|Romance\n",
       "3        4            Waiting to Exhale (1995)                  Comedy|Drama\n",
       "4        5  Father of the Bride Part II (1995)                        Comedy"
      ]
     },
     "execution_count": 8,
     "metadata": {},
     "output_type": "execute_result"
    }
   ],
   "source": [
    "df_movies.columns=['movieId', 'title', 'genres']\n",
    "df_movies.head()"
   ]
  },
  {
   "cell_type": "code",
   "execution_count": 9,
   "metadata": {},
   "outputs": [
    {
     "data": {
      "text/html": [
       "<div>\n",
       "<style scoped>\n",
       "    .dataframe tbody tr th:only-of-type {\n",
       "        vertical-align: middle;\n",
       "    }\n",
       "\n",
       "    .dataframe tbody tr th {\n",
       "        vertical-align: top;\n",
       "    }\n",
       "\n",
       "    .dataframe thead th {\n",
       "        text-align: right;\n",
       "    }\n",
       "</style>\n",
       "<table border=\"1\" class=\"dataframe\">\n",
       "  <thead>\n",
       "    <tr style=\"text-align: right;\">\n",
       "      <th></th>\n",
       "      <th>userId</th>\n",
       "      <th>movieId</th>\n",
       "      <th>rating</th>\n",
       "      <th>timestamp</th>\n",
       "    </tr>\n",
       "  </thead>\n",
       "  <tbody>\n",
       "    <tr>\n",
       "      <th>0</th>\n",
       "      <td>1</td>\n",
       "      <td>1193</td>\n",
       "      <td>5</td>\n",
       "      <td>978300760</td>\n",
       "    </tr>\n",
       "    <tr>\n",
       "      <th>1</th>\n",
       "      <td>1</td>\n",
       "      <td>661</td>\n",
       "      <td>3</td>\n",
       "      <td>978302109</td>\n",
       "    </tr>\n",
       "    <tr>\n",
       "      <th>2</th>\n",
       "      <td>1</td>\n",
       "      <td>914</td>\n",
       "      <td>3</td>\n",
       "      <td>978301968</td>\n",
       "    </tr>\n",
       "    <tr>\n",
       "      <th>3</th>\n",
       "      <td>1</td>\n",
       "      <td>3408</td>\n",
       "      <td>4</td>\n",
       "      <td>978300275</td>\n",
       "    </tr>\n",
       "    <tr>\n",
       "      <th>4</th>\n",
       "      <td>1</td>\n",
       "      <td>2355</td>\n",
       "      <td>5</td>\n",
       "      <td>978824291</td>\n",
       "    </tr>\n",
       "  </tbody>\n",
       "</table>\n",
       "</div>"
      ],
      "text/plain": [
       "   userId  movieId  rating  timestamp\n",
       "0       1     1193       5  978300760\n",
       "1       1      661       3  978302109\n",
       "2       1      914       3  978301968\n",
       "3       1     3408       4  978300275\n",
       "4       1     2355       5  978824291"
      ]
     },
     "execution_count": 9,
     "metadata": {},
     "output_type": "execute_result"
    }
   ],
   "source": [
    "df_ratings.columns=['userId','movieId','rating','timestamp']\n",
    "df_ratings.head()"
   ]
  },
  {
   "cell_type": "code",
   "execution_count": 10,
   "metadata": {},
   "outputs": [],
   "source": [
    "df = pd.merge(df_ratings, df_movies, on='movieId')"
   ]
  },
  {
   "cell_type": "code",
   "execution_count": 11,
   "metadata": {},
   "outputs": [],
   "source": [
    "del df['timestamp']\n",
    "del df['genres']"
   ]
  },
  {
   "cell_type": "markdown",
   "metadata": {},
   "source": [
    "# Построение модели"
   ]
  },
  {
   "cell_type": "code",
   "execution_count": 12,
   "metadata": {},
   "outputs": [],
   "source": [
    "from surprise import Dataset, Reader, KNNBasic\n",
    "from surprise.model_selection import train_test_split\n",
    "from surprise import accuracy"
   ]
  },
  {
   "cell_type": "code",
   "execution_count": 13,
   "metadata": {},
   "outputs": [],
   "source": [
    "from surprise.model_selection import KFold"
   ]
  },
  {
   "cell_type": "code",
   "execution_count": 14,
   "metadata": {},
   "outputs": [],
   "source": [
    "kfold = KFold(5)"
   ]
  },
  {
   "cell_type": "code",
   "execution_count": 15,
   "metadata": {},
   "outputs": [],
   "source": [
    "df_for_surpise = df_ratings[['userId', 'movieId', 'rating']]"
   ]
  },
  {
   "cell_type": "code",
   "execution_count": 16,
   "metadata": {},
   "outputs": [],
   "source": [
    "df_for_surpise.columns = ['uid', 'iid', 'rating']"
   ]
  },
  {
   "cell_type": "code",
   "execution_count": 17,
   "metadata": {},
   "outputs": [
    {
     "data": {
      "text/html": [
       "<div>\n",
       "<style scoped>\n",
       "    .dataframe tbody tr th:only-of-type {\n",
       "        vertical-align: middle;\n",
       "    }\n",
       "\n",
       "    .dataframe tbody tr th {\n",
       "        vertical-align: top;\n",
       "    }\n",
       "\n",
       "    .dataframe thead th {\n",
       "        text-align: right;\n",
       "    }\n",
       "</style>\n",
       "<table border=\"1\" class=\"dataframe\">\n",
       "  <thead>\n",
       "    <tr style=\"text-align: right;\">\n",
       "      <th></th>\n",
       "      <th>uid</th>\n",
       "      <th>iid</th>\n",
       "      <th>rating</th>\n",
       "    </tr>\n",
       "  </thead>\n",
       "  <tbody>\n",
       "    <tr>\n",
       "      <th>0</th>\n",
       "      <td>1</td>\n",
       "      <td>1193</td>\n",
       "      <td>5</td>\n",
       "    </tr>\n",
       "    <tr>\n",
       "      <th>1</th>\n",
       "      <td>1</td>\n",
       "      <td>661</td>\n",
       "      <td>3</td>\n",
       "    </tr>\n",
       "    <tr>\n",
       "      <th>2</th>\n",
       "      <td>1</td>\n",
       "      <td>914</td>\n",
       "      <td>3</td>\n",
       "    </tr>\n",
       "    <tr>\n",
       "      <th>3</th>\n",
       "      <td>1</td>\n",
       "      <td>3408</td>\n",
       "      <td>4</td>\n",
       "    </tr>\n",
       "    <tr>\n",
       "      <th>4</th>\n",
       "      <td>1</td>\n",
       "      <td>2355</td>\n",
       "      <td>5</td>\n",
       "    </tr>\n",
       "  </tbody>\n",
       "</table>\n",
       "</div>"
      ],
      "text/plain": [
       "   uid   iid  rating\n",
       "0    1  1193       5\n",
       "1    1   661       3\n",
       "2    1   914       3\n",
       "3    1  3408       4\n",
       "4    1  2355       5"
      ]
     },
     "execution_count": 17,
     "metadata": {},
     "output_type": "execute_result"
    }
   ],
   "source": [
    "df_for_surpise.head()"
   ]
  },
  {
   "cell_type": "code",
   "execution_count": 18,
   "metadata": {},
   "outputs": [],
   "source": [
    "reader = Reader(rating_scale=(0.5, 5))"
   ]
  },
  {
   "cell_type": "code",
   "execution_count": 19,
   "metadata": {},
   "outputs": [],
   "source": [
    "dataset = Dataset.load_from_df(df_for_surpise, reader)"
   ]
  },
  {
   "cell_type": "code",
   "execution_count": 20,
   "metadata": {},
   "outputs": [],
   "source": [
    "from surprise import KNNWithMeans"
   ]
  },
  {
   "cell_type": "code",
   "execution_count": 21,
   "metadata": {},
   "outputs": [],
   "source": [
    "algo = KNNWithMeans(k=40, sim_options={'name': 'pearson_baseline', 'user_based': False})"
   ]
  },
  {
   "cell_type": "code",
   "execution_count": 22,
   "metadata": {},
   "outputs": [],
   "source": [
    "from surprise.model_selection import cross_validate"
   ]
  },
  {
   "cell_type": "code",
   "execution_count": 23,
   "metadata": {},
   "outputs": [
    {
     "name": "stdout",
     "output_type": "stream",
     "text": [
      "Estimating biases using als...\n",
      "Computing the pearson_baseline similarity matrix...\n",
      "Done computing similarity matrix.\n",
      "Estimating biases using als...\n",
      "Computing the pearson_baseline similarity matrix...\n",
      "Done computing similarity matrix.\n",
      "Estimating biases using als...\n",
      "Computing the pearson_baseline similarity matrix...\n",
      "Done computing similarity matrix.\n",
      "Estimating biases using als...\n",
      "Computing the pearson_baseline similarity matrix...\n",
      "Done computing similarity matrix.\n",
      "Estimating biases using als...\n",
      "Computing the pearson_baseline similarity matrix...\n",
      "Done computing similarity matrix.\n",
      "Evaluating RMSE, MAE of algorithm KNNWithMeans on 5 split(s).\n",
      "\n",
      "                  Fold 1  Fold 2  Fold 3  Fold 4  Fold 5  Mean    Std     \n",
      "RMSE (testset)    0.8577  0.8589  0.8599  0.8565  0.8600  0.8586  0.0013  \n",
      "MAE (testset)     0.6720  0.6726  0.6727  0.6708  0.6734  0.6723  0.0009  \n",
      "Fit time          23.93   24.52   22.36   22.49   25.96   23.85   1.34    \n",
      "Test time         76.77   74.07   71.49   77.50   100.83  80.13   10.57   \n"
     ]
    },
    {
     "data": {
      "text/plain": [
       "{'test_rmse': array([0.85770955, 0.8588965 , 0.85987329, 0.85647481, 0.85995654]),\n",
       " 'test_mae': array([0.67196828, 0.67257379, 0.67268234, 0.67080609, 0.67344851]),\n",
       " 'fit_time': (23.930315017700195,\n",
       "  24.519879817962646,\n",
       "  22.355286121368408,\n",
       "  22.49003291130066,\n",
       "  25.96183705329895),\n",
       " 'test_time': (76.76503300666809,\n",
       "  74.07050085067749,\n",
       "  71.48867011070251,\n",
       "  77.49739003181458,\n",
       "  100.82974886894226)}"
      ]
     },
     "execution_count": 23,
     "metadata": {},
     "output_type": "execute_result"
    }
   ],
   "source": [
    "cross_validate(algo, dataset, measures=['RMSE', 'MAE'], cv=5, verbose=True)"
   ]
  },
  {
   "cell_type": "markdown",
   "metadata": {},
   "source": [
    "Нужный диапазон значений RMSE получен (< 0.87), но сделаем проверку и на других моделях"
   ]
  },
  {
   "cell_type": "markdown",
   "metadata": {},
   "source": [
    "# Исследование с использованием дополнительных методов"
   ]
  },
  {
   "cell_type": "code",
   "execution_count": 25,
   "metadata": {},
   "outputs": [
    {
     "name": "stdout",
     "output_type": "stream",
     "text": [
      "Evaluating RMSE, MAE of algorithm SVD on 5 split(s).\n",
      "\n",
      "                  Fold 1  Fold 2  Fold 3  Fold 4  Fold 5  Mean    Std     \n",
      "RMSE (testset)    0.8738  0.8748  0.8727  0.8736  0.8736  0.8737  0.0007  \n",
      "MAE (testset)     0.6865  0.6871  0.6860  0.6864  0.6853  0.6863  0.0006  \n",
      "Fit time          48.78   53.99   54.77   53.21   59.39   54.03   3.39    \n",
      "Test time         2.59    2.40    2.65    2.31    2.60    2.51    0.13    \n"
     ]
    },
    {
     "data": {
      "text/plain": [
       "{'test_rmse': array([0.8737836 , 0.87483774, 0.87274034, 0.87362809, 0.87357737]),\n",
       " 'test_mae': array([0.68654825, 0.68711422, 0.68603251, 0.68635947, 0.68528672]),\n",
       " 'fit_time': (48.784323930740356,\n",
       "  53.992595911026,\n",
       "  54.76615881919861,\n",
       "  53.206093072891235,\n",
       "  59.3909330368042),\n",
       " 'test_time': (2.591013193130493,\n",
       "  2.4009430408477783,\n",
       "  2.648621082305908,\n",
       "  2.305108070373535,\n",
       "  2.6044681072235107)}"
      ]
     },
     "execution_count": 25,
     "metadata": {},
     "output_type": "execute_result"
    }
   ],
   "source": [
    "from surprise import SVD\n",
    "algo_SVD = SVD()\n",
    "cross_validate(algo_SVD, dataset, measures=['RMSE', 'MAE'], cv=5, verbose=True)"
   ]
  },
  {
   "cell_type": "code",
   "execution_count": 26,
   "metadata": {},
   "outputs": [
    {
     "name": "stdout",
     "output_type": "stream",
     "text": [
      "Evaluating RMSE, MAE of algorithm NMF on 5 split(s).\n",
      "\n",
      "                  Fold 1  Fold 2  Fold 3  Fold 4  Fold 5  Mean    Std     \n",
      "RMSE (testset)    0.9153  0.9172  0.9137  0.9170  0.9170  0.9160  0.0014  \n",
      "MAE (testset)     0.7225  0.7255  0.7222  0.7244  0.7246  0.7238  0.0013  \n",
      "Fit time          60.94   103.44  78.19   63.65   57.67   72.78   16.86   \n",
      "Test time         4.39    5.37    2.92    2.86    2.52    3.61    1.09    \n"
     ]
    },
    {
     "data": {
      "text/plain": [
       "{'test_rmse': array([0.91530897, 0.91720981, 0.91365833, 0.91701378, 0.91698258]),\n",
       " 'test_mae': array([0.72248924, 0.7255436 , 0.72216356, 0.72440275, 0.72459024]),\n",
       " 'fit_time': (60.9437518119812,\n",
       "  103.44148302078247,\n",
       "  78.18986988067627,\n",
       "  63.648370027542114,\n",
       "  57.66501593589783),\n",
       " 'test_time': (4.391932964324951,\n",
       "  5.371487140655518,\n",
       "  2.916332960128784,\n",
       "  2.860474109649658,\n",
       "  2.519414186477661)}"
      ]
     },
     "execution_count": 26,
     "metadata": {},
     "output_type": "execute_result"
    }
   ],
   "source": [
    "from surprise import NMF\n",
    "algo_NMF = NMF()\n",
    "cross_validate(algo_NMF, dataset, measures=['RMSE', 'MAE'], cv=5, verbose=True)"
   ]
  },
  {
   "cell_type": "code",
   "execution_count": 27,
   "metadata": {},
   "outputs": [
    {
     "name": "stdout",
     "output_type": "stream",
     "text": [
      "Evaluating RMSE, MAE of algorithm NormalPredictor on 5 split(s).\n",
      "\n",
      "                  Fold 1  Fold 2  Fold 3  Fold 4  Fold 5  Mean    Std     \n",
      "RMSE (testset)    1.5142  1.5096  1.5091  1.5085  1.5096  1.5102  0.0020  \n",
      "MAE (testset)     1.2127  1.2094  1.2088  1.2084  1.2085  1.2096  0.0016  \n",
      "Fit time          1.04    1.20    1.23    1.28    1.32    1.22    0.10    \n",
      "Test time         2.27    2.29    2.64    2.36    2.65    2.44    0.17    \n"
     ]
    },
    {
     "data": {
      "text/plain": [
       "{'test_rmse': array([1.51418796, 1.50964186, 1.50905508, 1.50847517, 1.50963653]),\n",
       " 'test_mae': array([1.21272273, 1.20943121, 1.20881641, 1.20840908, 1.20853127]),\n",
       " 'fit_time': (1.044506311416626,\n",
       "  1.196470022201538,\n",
       "  1.2271511554718018,\n",
       "  1.2840723991394043,\n",
       "  1.3248209953308105),\n",
       " 'test_time': (2.265394926071167,\n",
       "  2.286365032196045,\n",
       "  2.6395490169525146,\n",
       "  2.357621908187866,\n",
       "  2.6482579708099365)}"
      ]
     },
     "execution_count": 27,
     "metadata": {},
     "output_type": "execute_result"
    }
   ],
   "source": [
    "from surprise import NormalPredictor\n",
    "algo_NormalPredictor = NormalPredictor()\n",
    "cross_validate(algo_NormalPredictor, dataset, measures=['RMSE', 'MAE'], cv=5, verbose=True)"
   ]
  },
  {
   "cell_type": "code",
   "execution_count": 28,
   "metadata": {},
   "outputs": [
    {
     "name": "stdout",
     "output_type": "stream",
     "text": [
      "Estimating biases using als...\n",
      "Estimating biases using als...\n",
      "Estimating biases using als...\n",
      "Estimating biases using als...\n",
      "Estimating biases using als...\n",
      "Evaluating RMSE, MAE of algorithm BaselineOnly on 5 split(s).\n",
      "\n",
      "                  Fold 1  Fold 2  Fold 3  Fold 4  Fold 5  Mean    Std     \n",
      "RMSE (testset)    0.9094  0.9086  0.9098  0.9086  0.9068  0.9086  0.0010  \n",
      "MAE (testset)     0.7205  0.7193  0.7199  0.7198  0.7178  0.7195  0.0009  \n",
      "Fit time          1.47    1.58    1.61    1.70    1.59    1.59    0.07    \n",
      "Test time         2.15    2.51    2.23    2.20    2.22    2.26    0.12    \n"
     ]
    },
    {
     "data": {
      "text/plain": [
       "{'test_rmse': array([0.90942539, 0.9085991 , 0.90980872, 0.90858822, 0.90676428]),\n",
       " 'test_mae': array([0.7204932 , 0.71928212, 0.71985833, 0.71981814, 0.7178152 ]),\n",
       " 'fit_time': (1.4685819149017334,\n",
       "  1.5788931846618652,\n",
       "  1.6097469329833984,\n",
       "  1.6961469650268555,\n",
       "  1.5928809642791748),\n",
       " 'test_time': (2.154721975326538,\n",
       "  2.5060369968414307,\n",
       "  2.2257139682769775,\n",
       "  2.2033257484436035,\n",
       "  2.2225630283355713)}"
      ]
     },
     "execution_count": 28,
     "metadata": {},
     "output_type": "execute_result"
    }
   ],
   "source": [
    "from surprise import BaselineOnly\n",
    "algo_BaselineOnly = BaselineOnly()\n",
    "cross_validate(algo_BaselineOnly, dataset, measures=['RMSE', 'MAE'], cv=5, verbose=True)"
   ]
  },
  {
   "cell_type": "code",
   "execution_count": 29,
   "metadata": {},
   "outputs": [
    {
     "name": "stdout",
     "output_type": "stream",
     "text": [
      "Computing the msd similarity matrix...\n",
      "Done computing similarity matrix.\n",
      "Computing the msd similarity matrix...\n",
      "Done computing similarity matrix.\n",
      "Computing the msd similarity matrix...\n",
      "Done computing similarity matrix.\n",
      "Computing the msd similarity matrix...\n",
      "Done computing similarity matrix.\n",
      "Computing the msd similarity matrix...\n",
      "Done computing similarity matrix.\n",
      "Evaluating RMSE, MAE of algorithm KNNBasic on 5 split(s).\n",
      "\n",
      "                  Fold 1  Fold 2  Fold 3  Fold 4  Fold 5  Mean    Std     \n",
      "RMSE (testset)    0.9230  0.9241  0.9232  0.9228  0.9212  0.9229  0.0010  \n",
      "MAE (testset)     0.7282  0.7282  0.7276  0.7271  0.7263  0.7275  0.0007  \n",
      "Fit time          23.16   30.79   32.90   24.10   46.12   31.41   8.25    \n",
      "Test time         163.62  162.17  134.74  139.09  163.35  152.59  12.88   \n"
     ]
    },
    {
     "data": {
      "text/plain": [
       "{'test_rmse': array([0.92297307, 0.92413593, 0.92324575, 0.92284917, 0.92118136]),\n",
       " 'test_mae': array([0.72824666, 0.7282099 , 0.72763346, 0.72714845, 0.72630396]),\n",
       " 'fit_time': (23.15976905822754,\n",
       "  30.79008173942566,\n",
       "  32.89593315124512,\n",
       "  24.095762968063354,\n",
       "  46.11776876449585),\n",
       " 'test_time': (163.62284207344055,\n",
       "  162.1659541130066,\n",
       "  134.7415370941162,\n",
       "  139.0866641998291,\n",
       "  163.34989500045776)}"
      ]
     },
     "execution_count": 29,
     "metadata": {},
     "output_type": "execute_result"
    }
   ],
   "source": [
    "from surprise import KNNBasic\n",
    "algo_KNNBasic = KNNBasic()\n",
    "cross_validate(algo_KNNBasic, dataset, measures=['RMSE', 'MAE'], cv=5, verbose=True)"
   ]
  },
  {
   "cell_type": "code",
   "execution_count": 30,
   "metadata": {},
   "outputs": [
    {
     "name": "stdout",
     "output_type": "stream",
     "text": [
      "Estimating biases using als...\n",
      "Computing the msd similarity matrix...\n",
      "Done computing similarity matrix.\n",
      "Estimating biases using als...\n",
      "Computing the msd similarity matrix...\n",
      "Done computing similarity matrix.\n",
      "Estimating biases using als...\n",
      "Computing the msd similarity matrix...\n",
      "Done computing similarity matrix.\n",
      "Estimating biases using als...\n",
      "Computing the msd similarity matrix...\n",
      "Done computing similarity matrix.\n",
      "Estimating biases using als...\n",
      "Computing the msd similarity matrix...\n",
      "Done computing similarity matrix.\n",
      "Evaluating RMSE, MAE of algorithm KNNBaseline on 5 split(s).\n",
      "\n",
      "                  Fold 1  Fold 2  Fold 3  Fold 4  Fold 5  Mean    Std     \n",
      "RMSE (testset)    0.8966  0.8945  0.8930  0.8935  0.8983  0.8952  0.0020  \n",
      "MAE (testset)     0.7065  0.7059  0.7054  0.7048  0.7099  0.7065  0.0018  \n",
      "Fit time          23.30   27.95   37.53   40.72   25.75   31.05   6.83    \n",
      "Test time         147.55  168.94  175.59  140.39  177.24  161.94  15.11   \n"
     ]
    },
    {
     "data": {
      "text/plain": [
       "{'test_rmse': array([0.89659327, 0.8945231 , 0.893032  , 0.89348825, 0.89826936]),\n",
       " 'test_mae': array([0.70647612, 0.70590723, 0.70543047, 0.70476492, 0.70991248]),\n",
       " 'fit_time': (23.3039608001709,\n",
       "  27.949639081954956,\n",
       "  37.53399610519409,\n",
       "  40.71524524688721,\n",
       "  25.752312898635864),\n",
       " 'test_time': (147.54622793197632,\n",
       "  168.94113898277283,\n",
       "  175.5856750011444,\n",
       "  140.38802790641785,\n",
       "  177.23597812652588)}"
      ]
     },
     "execution_count": 30,
     "metadata": {},
     "output_type": "execute_result"
    }
   ],
   "source": [
    "from surprise import KNNBaseline\n",
    "algo_KNNBaseline = KNNBaseline()\n",
    "cross_validate(algo_KNNBaseline, dataset, measures=['RMSE', 'MAE'], cv=5, verbose=True)"
   ]
  },
  {
   "cell_type": "code",
   "execution_count": 31,
   "metadata": {},
   "outputs": [
    {
     "name": "stdout",
     "output_type": "stream",
     "text": [
      "Evaluating RMSE, MAE of algorithm SlopeOne on 5 split(s).\n",
      "\n",
      "                  Fold 1  Fold 2  Fold 3  Fold 4  Fold 5  Mean    Std     \n",
      "RMSE (testset)    0.9062  0.9067  0.9054  0.9078  0.9065  0.9065  0.0008  \n",
      "MAE (testset)     0.7140  0.7151  0.7136  0.7147  0.7153  0.7145  0.0006  \n",
      "Fit time          13.57   14.53   15.74   15.81   17.79   15.49   1.42    \n",
      "Test time         64.16   69.32   69.77   66.89   112.60  76.55   18.14   \n"
     ]
    },
    {
     "data": {
      "text/plain": [
       "{'test_rmse': array([0.90615955, 0.90665377, 0.90542248, 0.90782533, 0.90654278]),\n",
       " 'test_mae': array([0.71404473, 0.71507334, 0.71363334, 0.71471831, 0.71526984]),\n",
       " 'fit_time': (13.569154977798462,\n",
       "  14.52989912033081,\n",
       "  15.744428157806396,\n",
       "  15.810383796691895,\n",
       "  17.78842806816101),\n",
       " 'test_time': (64.16039490699768,\n",
       "  69.31711316108704,\n",
       "  69.7667498588562,\n",
       "  66.8853440284729,\n",
       "  112.59567999839783)}"
      ]
     },
     "execution_count": 31,
     "metadata": {},
     "output_type": "execute_result"
    }
   ],
   "source": [
    "from surprise import SlopeOne\n",
    "algo_SlopeOne = SlopeOne()\n",
    "cross_validate(algo_SlopeOne, dataset, measures=['RMSE', 'MAE'], cv=5, verbose=True)"
   ]
  },
  {
   "cell_type": "code",
   "execution_count": 32,
   "metadata": {},
   "outputs": [
    {
     "name": "stdout",
     "output_type": "stream",
     "text": [
      "Evaluating RMSE, MAE of algorithm CoClustering on 5 split(s).\n",
      "\n",
      "                  Fold 1  Fold 2  Fold 3  Fold 4  Fold 5  Mean    Std     \n",
      "RMSE (testset)    0.9166  0.9184  0.9155  0.9159  0.9149  0.9163  0.0012  \n",
      "MAE (testset)     0.7183  0.7207  0.7180  0.7183  0.7166  0.7184  0.0013  \n",
      "Fit time          27.59   26.47   21.28   20.70   23.01   23.81   2.76    \n",
      "Test time         5.26    4.29    3.84    3.79    4.65    4.36    0.54    \n"
     ]
    },
    {
     "data": {
      "text/plain": [
       "{'test_rmse': array([0.91664481, 0.91839389, 0.91552217, 0.91591495, 0.91488871]),\n",
       " 'test_mae': array([0.71827459, 0.72070758, 0.7179508 , 0.71827473, 0.71662566]),\n",
       " 'fit_time': (27.592801094055176,\n",
       "  26.467613220214844,\n",
       "  21.282800912857056,\n",
       "  20.700852870941162,\n",
       "  23.01062774658203),\n",
       " 'test_time': (5.256424903869629,\n",
       "  4.28609824180603,\n",
       "  3.8384299278259277,\n",
       "  3.7934608459472656,\n",
       "  4.646324872970581)}"
      ]
     },
     "execution_count": 32,
     "metadata": {},
     "output_type": "execute_result"
    }
   ],
   "source": [
    "from surprise import CoClustering\n",
    "algo_CoClustering = CoClustering()\n",
    "cross_validate(algo_CoClustering, dataset, measures=['RMSE', 'MAE'], cv=5, verbose=True)"
   ]
  },
  {
   "cell_type": "markdown",
   "metadata": {},
   "source": [
    "# ВЫВОДЫ"
   ]
  },
  {
   "cell_type": "markdown",
   "metadata": {},
   "source": [
    "Лучшим результатом является вариант полученный в самом начале работы с методом KNNWithMeans(k=40, sim_options={'name': 'pearson_baseline', 'user_based': False}). Остальные испробованные методы показали результаты сильно хуже.\n",
    "\n",
    "Интерес вызвал алгоритм BaselineOnly, тк у него RMSE получилось не самое низкое, но время работы значительно ниже, чем для других методов. Возможно, в кейсах, где критично время, это свойство может быть важным."
   ]
  },
  {
   "cell_type": "code",
   "execution_count": null,
   "metadata": {},
   "outputs": [],
   "source": []
  }
 ],
 "metadata": {
  "kernelspec": {
   "display_name": "Python 3",
   "language": "python",
   "name": "python3"
  },
  "language_info": {
   "codemirror_mode": {
    "name": "ipython",
    "version": 3
   },
   "file_extension": ".py",
   "mimetype": "text/x-python",
   "name": "python",
   "nbconvert_exporter": "python",
   "pygments_lexer": "ipython3",
   "version": "3.7.6"
  }
 },
 "nbformat": 4,
 "nbformat_minor": 4
}
